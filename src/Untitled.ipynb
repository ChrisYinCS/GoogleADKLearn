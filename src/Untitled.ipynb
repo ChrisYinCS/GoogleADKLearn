{
 "cells": [
  {
   "cell_type": "code",
   "execution_count": 3,
   "id": "0bdbb088-2b61-4430-a693-99fe32374ab9",
   "metadata": {
    "scrolled": true
   },
   "outputs": [],
   "source": [
    "import sys"
   ]
  },
  {
   "cell_type": "code",
   "execution_count": 4,
   "id": "8410def1-9272-45e6-a9a6-bec3b290e722",
   "metadata": {},
   "outputs": [
    {
     "name": "stdout",
     "output_type": "stream",
     "text": [
      "/Users/zhaoxianpei/Documents/googleADK/GoogleADKLearn/.venv/bin/python\n"
     ]
    }
   ],
   "source": [
    "print(sys.executable)  # 应显示虚拟环境的 Python 路径"
   ]
  },
  {
   "cell_type": "code",
   "execution_count": null,
   "id": "9953b6e9-2e2d-4fe6-b30c-0060ef15c2aa",
   "metadata": {},
   "outputs": [],
   "source": []
  },
  {
   "cell_type": "code",
   "execution_count": null,
   "id": "051f20f4-0129-4adb-a0c1-42ecfeae7e64",
   "metadata": {},
   "outputs": [],
   "source": []
  }
 ],
 "metadata": {
  "kernelspec": {
   "display_name": "LiteLLM Env",
   "language": "python",
   "name": "litellm_env"
  },
  "language_info": {
   "codemirror_mode": {
    "name": "ipython",
    "version": 3
   },
   "file_extension": ".py",
   "mimetype": "text/x-python",
   "name": "python",
   "nbconvert_exporter": "python",
   "pygments_lexer": "ipython3",
   "version": "3.13.0"
  }
 },
 "nbformat": 4,
 "nbformat_minor": 5
}
